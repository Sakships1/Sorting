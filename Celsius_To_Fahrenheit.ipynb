{
 "cells": [
  {
   "cell_type": "code",
   "execution_count": 4,
   "metadata": {},
   "outputs": [
    {
     "name": "stdout",
     "output_type": "stream",
     "text": [
      "Enter the temperature in Celsius:37\n",
      "37.0 Celsius is equal 98.6 Fahrenheit\n"
     ]
    }
   ],
   "source": [
    "# TASK_DAY1\n",
    "# Python program to convert Celsius to Farenheit\n",
    "\n",
    "Celsius = float(input(\"Enter the temperature in Celsius:\"))\n",
    "\n",
    "# We know that C/5 = (F-32)/9 where C is celsius and F is Fahrenheit\n",
    "Fahrenheit = 1.8*Celsius + 32\n",
    "\n",
    "print(\"%0.1f Celsius is equal %0.1f Fahrenheit\" %(Celsius, Fahrenheit))"
   ]
  },
  {
   "cell_type": "code",
   "execution_count": null,
   "metadata": {},
   "outputs": [],
   "source": []
  }
 ],
 "metadata": {
  "kernelspec": {
   "display_name": "Python 3",
   "language": "python",
   "name": "python3"
  },
  "language_info": {
   "codemirror_mode": {
    "name": "ipython",
    "version": 3
   },
   "file_extension": ".py",
   "mimetype": "text/x-python",
   "name": "python",
   "nbconvert_exporter": "python",
   "pygments_lexer": "ipython3",
   "version": "3.7.4"
  }
 },
 "nbformat": 4,
 "nbformat_minor": 2
}
