{
 "cells": [
  {
   "cell_type": "code",
   "execution_count": 4,
   "metadata": {},
   "outputs": [
    {
     "name": "stdout",
     "output_type": "stream",
     "text": [
      "Enter the number: 64\n",
      "The Square Root of 64.0 number is 8.0 \n"
     ]
    }
   ],
   "source": [
    "#TASK_DAY1\n",
    "#Python Program to Find the square Root\n",
    "\n",
    "number = float(input(\"Enter the number: \"))\n",
    "\n",
    "Square_Root = number**0.5\n",
    "\n",
    "print(\"The Square Root of %0.1f number is %0.1f \" %(number,Square_Root))"
   ]
  },
  {
   "cell_type": "code",
   "execution_count": null,
   "metadata": {},
   "outputs": [],
   "source": []
  }
 ],
 "metadata": {
  "kernelspec": {
   "display_name": "Python 3",
   "language": "python",
   "name": "python3"
  },
  "language_info": {
   "codemirror_mode": {
    "name": "ipython",
    "version": 3
   },
   "file_extension": ".py",
   "mimetype": "text/x-python",
   "name": "python",
   "nbconvert_exporter": "python",
   "pygments_lexer": "ipython3",
   "version": "3.7.4"
  }
 },
 "nbformat": 4,
 "nbformat_minor": 2
}
