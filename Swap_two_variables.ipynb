{
 "cells": [
  {
   "cell_type": "code",
   "execution_count": 2,
   "metadata": {},
   "outputs": [
    {
     "name": "stdout",
     "output_type": "stream",
     "text": [
      "Enter the value of x: 30\n",
      "Enter the value of y: 40\n",
      "Before swapping:\n",
      "The value of x is  30 and y is  40\n",
      "After swapping\n",
      "The value of x is  40 and y is  30\n"
     ]
    }
   ],
   "source": [
    "#TASK_DAY1\n",
    "#Python program to swap two variables without using 3rd variable\n",
    "\n",
    "x = input(\"Enter the value of x: \")\n",
    "y = input(\"Enter the value of y: \")\n",
    "\n",
    "print(\"Before swapping:\")\n",
    "print(\"The value of x is \",x, \"and y is \",y)\n",
    "\n",
    "x,y = y,x\n",
    "\n",
    "print('After swapping')\n",
    "print(\"The value of x is \",x, \"and y is \",y)"
   ]
  },
  {
   "cell_type": "code",
   "execution_count": null,
   "metadata": {},
   "outputs": [],
   "source": []
  }
 ],
 "metadata": {
  "kernelspec": {
   "display_name": "Python 3",
   "language": "python",
   "name": "python3"
  },
  "language_info": {
   "codemirror_mode": {
    "name": "ipython",
    "version": 3
   },
   "file_extension": ".py",
   "mimetype": "text/x-python",
   "name": "python",
   "nbconvert_exporter": "python",
   "pygments_lexer": "ipython3",
   "version": "3.7.4"
  }
 },
 "nbformat": 4,
 "nbformat_minor": 2
}
