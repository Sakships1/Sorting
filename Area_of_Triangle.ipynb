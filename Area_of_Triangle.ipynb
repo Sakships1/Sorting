{
 "cells": [
  {
   "cell_type": "code",
   "execution_count": 3,
   "metadata": {},
   "outputs": [
    {
     "name": "stdout",
     "output_type": "stream",
     "text": [
      "Enter the first side of triangle:20\n",
      "Enter the second side of triangle:20\n",
      "Enter the third side of triangle:10\n",
      "The area of triangle is 96.82\n"
     ]
    }
   ],
   "source": [
    "#TASK_DAY1\n",
    "#Python program to find the area of a triangle\n",
    "\n",
    "a = float(input(\"Enter the first side of triangle:\"))\n",
    "b = float(input(\"Enter the second side of triangle:\"))\n",
    "c = float(input(\"Enter the third side of triangle:\"))\n",
    "\n",
    "s = (a+b+c)/2\n",
    "\n",
    "area = (s*(s-a)*(s-b)*(s-c))**0.5\n",
    "print(\"The area of triangle is %0.2f\" % area)"
   ]
  },
  {
   "cell_type": "code",
   "execution_count": null,
   "metadata": {},
   "outputs": [],
   "source": []
  }
 ],
 "metadata": {
  "kernelspec": {
   "display_name": "Python 3",
   "language": "python",
   "name": "python3"
  },
  "language_info": {
   "codemirror_mode": {
    "name": "ipython",
    "version": 3
   },
   "file_extension": ".py",
   "mimetype": "text/x-python",
   "name": "python",
   "nbconvert_exporter": "python",
   "pygments_lexer": "ipython3",
   "version": "3.7.4"
  }
 },
 "nbformat": 4,
 "nbformat_minor": 2
}
