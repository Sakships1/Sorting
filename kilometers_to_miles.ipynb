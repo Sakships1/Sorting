{
 "cells": [
  {
   "cell_type": "code",
   "execution_count": 1,
   "metadata": {},
   "outputs": [
    {
     "name": "stdout",
     "output_type": "stream",
     "text": [
      "Enter the kilometers:3.5\n",
      "3.50 kilometers is equal to 2.17 miles\n"
     ]
    }
   ],
   "source": [
    "#TASK_DAY1\n",
    "#Python program to convert kilometers to miles\n",
    "\n",
    "kilometers = float(input(\"Enter the kilometers:\"))\n",
    "\n",
    "# we know that 1 km = 0.621371 miles.  \n",
    "conversion_Factor = 0.621371\n",
    "\n",
    "miles = kilometers*conversion_Factor\n",
    "\n",
    "print(\"%0.2f kilometers is equal to %0.2f miles\" %(kilometers,miles))"
   ]
  },
  {
   "cell_type": "code",
   "execution_count": null,
   "metadata": {},
   "outputs": [],
   "source": []
  }
 ],
 "metadata": {
  "kernelspec": {
   "display_name": "Python 3",
   "language": "python",
   "name": "python3"
  },
  "language_info": {
   "codemirror_mode": {
    "name": "ipython",
    "version": 3
   },
   "file_extension": ".py",
   "mimetype": "text/x-python",
   "name": "python",
   "nbconvert_exporter": "python",
   "pygments_lexer": "ipython3",
   "version": "3.7.4"
  }
 },
 "nbformat": 4,
 "nbformat_minor": 2
}
